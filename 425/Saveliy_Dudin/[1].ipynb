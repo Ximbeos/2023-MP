{
 "cells": [
  {
   "cell_type": "code",
   "execution_count": 1,
   "id": "54d5fe87",
   "metadata": {},
   "outputs": [],
   "source": [
    "import numpy as np\n",
    "import matplotlib as mp\n",
    "from datetime import datetime\n",
    "import queue"
   ]
  },
  {
   "cell_type": "code",
   "execution_count": 2,
   "id": "69b9fe98",
   "metadata": {},
   "outputs": [],
   "source": [
    "#My data\n",
    "my_data = (\"Dudin Saveliy Sergeevich\", 1, 4, 2003)\n",
    "\n",
    "#Predmeti s oсenkami\n",
    "attestat = {\"Русский\":4,\n",
    "            \"Математика\":5,\n",
    "            \"История\":3,\n",
    "            \"Литература\":5,\n",
    "            \"Биология\":4,\n",
    "            \"Физкультура\":5,\n",
    "            \"Экономика\":3,\n",
    "            \"Обществознание\":4,\n",
    "            \"Английский\":4,\n",
    "            \"Информатика\":4,\n",
    "            \"ОБЖ\":5,\n",
    "            \"Технология\":3,\n",
    "            \"Химия\":3,\n",
    "            \"Физика\":4,\n",
    "            \"география\":5}\n",
    "\n",
    "#Imena rodstvenikov\n",
    "family = [\"Sergey 1981\", \"Natasha 1975\", \"Sofia 2006\", \"Irina 1999\", \"Mihail 1987\", \"Ivan 1995\"]\n",
    "\n",
    "#Imya kivi\n",
    "name_pet = \"Gaston\""
   ]
  },
  {
   "cell_type": "code",
   "execution_count": 3,
   "id": "94cf8569",
   "metadata": {},
   "outputs": [
    {
     "name": "stdout",
     "output_type": "stream",
     "text": [
      "Средняя оценка: 4.066666666666666\n"
     ]
    }
   ],
   "source": [
    "#Zadanie №1\n",
    "\n",
    "sum = 0\n",
    "count = 0\n",
    "for x,y in attestat.items():\n",
    "    sum += y\n",
    "    count += 1\n",
    "srednia = sum/count\n",
    "print(\"Средняя оценка:\", srednia)"
   ]
  },
  {
   "cell_type": "code",
   "execution_count": 4,
   "id": "348a2cd2",
   "metadata": {},
   "outputs": [
    {
     "name": "stdout",
     "output_type": "stream",
     "text": [
      "Имена родственников: Ivan, Natasha, Mihail, Sergey, Irina, Saveliy, Sofia\n",
      "\n"
     ]
    }
   ],
   "source": [
    "#Zadanie №2\n",
    "imena = set()\n",
    "imena.add(my_data[0].split()[1])\n",
    "for i in family:\n",
    "    imena.add(i.split()[0])\n",
    "print(f\"Имена родственников: {', '.join(imena)}\\n\")\n",
    "\n"
   ]
  },
  {
   "cell_type": "code",
   "execution_count": 5,
   "id": "df096a15",
   "metadata": {},
   "outputs": [
    {
     "name": "stdout",
     "output_type": "stream",
     "text": [
      "Длина названий всех предметов: 130\n"
     ]
    }
   ],
   "source": [
    "#Zadanie №3\n",
    "dlina = 0\n",
    "for i in attestat.keys():\n",
    "    dlina += len(i)\n",
    "print(\"Длина названий всех предметов:\",dlina)\n"
   ]
  },
  {
   "cell_type": "code",
   "execution_count": 6,
   "id": "3eb32665",
   "metadata": {},
   "outputs": [
    {
     "name": "stdout",
     "output_type": "stream",
     "text": [
      "Уникальные буквы: ['а', 'г', 'е', 'и', 'о', 'р', 'ф', 'я']\n"
     ]
    }
   ],
   "source": [
    "#Zadanie №4\n",
    "un_bykvi = list(sorted({ele for val in i for ele in val}))\n",
    "print(\"Уникальные буквы: \" + str(un_bykvi))"
   ]
  },
  {
   "cell_type": "code",
   "execution_count": 7,
   "id": "383f529c",
   "metadata": {},
   "outputs": [
    {
     "name": "stdout",
     "output_type": "stream",
     "text": [
      "Имя питомца в бинарном виде: 1000111 1100001 1110011 1110100 1101111 1101110\n"
     ]
    }
   ],
   "source": [
    "#Zadanie №5\n",
    "n = ' '.join(format(ord(x), 'b') for x in name_pet)\n",
    "print(\"Имя питомца в бинарном виде:\", n)"
   ]
  },
  {
   "cell_type": "code",
   "execution_count": 8,
   "id": "6eee73f3",
   "metadata": {},
   "outputs": [
    {
     "name": "stdout",
     "output_type": "stream",
     "text": [
      "Отсортированный по алфавиту список родственников(в обратном порядке): ['Sofia', 'Sergey', 'Saveliy', 'Natasha', 'Mihail', 'Ivan', 'Irina']\n"
     ]
    }
   ],
   "source": [
    "#Zadanie №6\n",
    "s = sorted(imena, reverse=True)\n",
    "print(\"Отсортированный по алфавиту список родственников(в обратном порядке):\",s)"
   ]
  },
  {
   "cell_type": "code",
   "execution_count": 9,
   "id": "aca2a347",
   "metadata": {},
   "outputs": [
    {
     "name": "stdout",
     "output_type": "stream",
     "text": [
      "Количество дней от даты моего рождения до текущей даты: 7326 days, 16:31:28.688462\n"
     ]
    }
   ],
   "source": [
    "#Zadanie №7\n",
    "import datetime\n",
    "now = datetime.datetime.now()\n",
    "data_rozhdeniya = datetime.datetime(my_data[3], my_data[2], my_data[1])\n",
    "proshedshee_vremia = now - data_rozhdeniya\n",
    "print(\"Количество дней от даты моего рождения до текущей даты:\",proshedshee_vremia)"
   ]
  },
  {
   "cell_type": "code",
   "execution_count": 10,
   "id": "1ba44205",
   "metadata": {},
   "outputs": [
    {
     "name": "stdout",
     "output_type": "stream",
     "text": [
      "Введите слово(для остановки введите 'stop'):\n",
      "stop\n",
      "[]\n"
     ]
    }
   ],
   "source": [
    "#Zadanie №8\n",
    "spisok_slov = str(input(\"Введите слово(для остановки введите 'stop'):\\n\"))\n",
    "spisok1 = []\n",
    "while spisok_slov != \"stop\":\n",
    "    spisok1.append(spisok_slov)\n",
    "    spisok_slov = input()\n",
    "print(spisok1)"
   ]
  },
  {
   "cell_type": "code",
   "execution_count": 11,
   "id": "ca1d8528",
   "metadata": {},
   "outputs": [
    {
     "name": "stdout",
     "output_type": "stream",
     "text": [
      "Введите индекс от 1 до 7:1\n",
      "['Xīhuitl Tēmoc', 'Natasha', 'Mihail', 'Sergey', 'Irina', 'Saveliy', 'Sofia']\n"
     ]
    }
   ],
   "source": [
    "#Zadanie №9\n",
    "imena2 = []  \n",
    "for i in imena: \n",
    "    imena2.append(i)\n",
    "\n",
    "Azteci = ['Tenōch','Ācamāpichtli','Huītzilihhuitl','Chīmalpopōca','Xīhuitl Tēmoc','Itzcōhuātl','Motēuczōma Ilhuicamīna','Atotoztli','Āxāyacatl','Tīzocic','Āhuitzotl','Motēuczōma Xōcoyōtl','Cuitlāhuac','Cuāuhtēmoc','Tlacotzin',\n",
    "       'Motelchiuhtzin', 'Xochiquentzin','Huanitzin','Tehuetzquititzin','Cecetzin','Cipac']\n",
    "\n",
    "number = (my_data[1] + my_data[2]**2 + my_data[3]) % 21 + 1;\n",
    "index = int(input(\"Введите индекс от 1 до 7:\"))\n",
    "for i in imena2:\n",
    "    if index > 7 or index < 0:\n",
    "        print(\"Вы ввели индекс, который больше количества имён!\")\n",
    "        break\n",
    "    else:\n",
    "        imena2[index - 1] = Azteci[number - 1]\n",
    "print(imena2)\n",
    "\n",
    "\n"
   ]
  },
  {
   "cell_type": "code",
   "execution_count": 12,
   "id": "59ccf536",
   "metadata": {},
   "outputs": [
    {
     "name": "stdout",
     "output_type": "stream",
     "text": [
      "{'Natasha 1975': 1, 'Sergey 1981': 2, 'Mihail 1987': 3, 'Ivan 1995': 4, 'Irina 1999': 5, 'Sofia 2006': 6}\n"
     ]
    }
   ],
   "source": [
    "#Zadanie №10\n",
    "family2 = sorted(family, key=lambda x: int(x.split()[1]))\n",
    "family_po_godam = {}\n",
    "for i in range(len(family2)):\n",
    "    if i == len(family2)-1:\n",
    "        family_po_godam[family2[i]] = 6\n",
    "    else:\n",
    "        family_po_godam[family2[i]] = i+1\n",
    "print(family_po_godam)"
   ]
  },
  {
   "cell_type": "code",
   "execution_count": 42,
   "id": "b5f3d7ad",
   "metadata": {},
   "outputs": [
    {
     "name": "stdout",
     "output_type": "stream",
     "text": [
      "Аликвотный список\n"
     ]
    }
   ],
   "source": [
    "#Zadanie №11\n",
    "func = [\"Аликвотный список\", \"последовательности Сильвестра\", \"числа трибоначчи\", \"числа Леонардо\"]\n",
    "number1 = len(my_data[0]) * len (family) % 4\n",
    "my_variant = f\"{func[number1]}\"\n",
    "print(my_variant)\n"
   ]
  },
  {
   "cell_type": "code",
   "execution_count": 41,
   "id": "dba67cf3",
   "metadata": {},
   "outputs": [
    {
     "name": "stdout",
     "output_type": "stream",
     "text": [
      "10 8 7 1 0 "
     ]
    }
   ],
   "source": [
    "from math import sqrt\n",
    "def getSum(n):\n",
    "    summ = 0 \n",
    "\n",
    "    for i in range(1, int(sqrt(n)) + 1):\n",
    "        if n % i == 0:\n",
    "                 \n",
    "            if n // i == i:\n",
    "                summ += i           \n",
    "            else:\n",
    "                summ += i\n",
    "                summ += n // i\n",
    "     \n",
    "    return summ - n\n",
    "\n",
    "def printAliquot(n):\n",
    "    \n",
    "    print(n, end=\" \")\n",
    "    s = set()\n",
    "    s.add(n)\n",
    " \n",
    "    nextt = 0\n",
    "    while n > 0:\n",
    "             \n",
    "        n = getSum(n)\n",
    " \n",
    "        if n in s:\n",
    "            print(\"Repeats with\", n)\n",
    "            break\n",
    "        print(n, end=\" \")\n",
    "        s.add(n)\n",
    " \n",
    "    \n",
    "if __name__ == \"__main__\":\n",
    "    printAliquot(10)"
   ]
  }
 ],
 "metadata": {
  "kernelspec": {
   "display_name": "Python 3 (ipykernel)",
   "language": "python",
   "name": "python3"
  },
  "language_info": {
   "codemirror_mode": {
    "name": "ipython",
    "version": 3
   },
   "file_extension": ".py",
   "mimetype": "text/x-python",
   "name": "python",
   "nbconvert_exporter": "python",
   "pygments_lexer": "ipython3",
   "version": "3.9.13"
  }
 },
 "nbformat": 4,
 "nbformat_minor": 5
}
